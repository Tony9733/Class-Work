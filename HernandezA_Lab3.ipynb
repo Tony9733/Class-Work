{
  "nbformat": 4,
  "nbformat_minor": 0,
  "metadata": {
    "colab": {
      "name": "HernandezA_Lab3.ipynb",
      "provenance": [],
      "authorship_tag": "ABX9TyN2VMWzKX4dHpN5rtiFHscX",
      "include_colab_link": true
    },
    "kernelspec": {
      "name": "python3",
      "display_name": "Python 3"
    },
    "language_info": {
      "name": "python"
    }
  },
  "cells": [
    {
      "cell_type": "markdown",
      "metadata": {
        "id": "view-in-github",
        "colab_type": "text"
      },
      "source": [
        "<a href=\"https://colab.research.google.com/github/Tony9733/Class-Work/blob/main/HernandezA_Lab3.ipynb\" target=\"_parent\"><img src=\"https://colab.research.google.com/assets/colab-badge.svg\" alt=\"Open In Colab\"/></a>"
      ]
    },
    {
      "cell_type": "code",
      "execution_count": 1,
      "metadata": {
        "colab": {
          "base_uri": "https://localhost:8080/"
        },
        "id": "otKXq2iZsX3m",
        "outputId": "ae44d873-aa84-4434-847e-45efe5284fa5"
      },
      "outputs": [
        {
          "output_type": "stream",
          "name": "stdout",
          "text": [
            "Empty DataFrame\n",
            "Columns: [Criteria, weight, ratingA, ratingB, scoreA, scoreB]\n",
            "Index: []\n"
          ]
        }
      ],
      "source": [
        "import pandas as pd \n",
        "\n",
        "# create a dataframe for our alternative analysis matrix\n",
        "AA= pd.DataFrame(columns=['Criteria','weight', 'ratingA', 'ratingB', 'scoreA','scoreB'])\n",
        "print(AA)"
      ]
    },
    {
      "cell_type": "code",
      "source": [
        "# first step:add a list of criteria\n",
        "AA['Criteria'] = ['Risk', 'ROI', 'Customer Satisfaction','Feasibility', 'Starategic Aligment' ]\n",
        "print(AA)"
      ],
      "metadata": {
        "colab": {
          "base_uri": "https://localhost:8080/"
        },
        "id": "nLOSdY_FtMDf",
        "outputId": "920dac3c-17e2-4cd5-eea7-1598c6e29dfa"
      },
      "execution_count": 2,
      "outputs": [
        {
          "output_type": "stream",
          "name": "stdout",
          "text": [
            "                Criteria weight ratingA ratingB scoreA scoreB\n",
            "0                   Risk    NaN     NaN     NaN    NaN    NaN\n",
            "1                    ROI    NaN     NaN     NaN    NaN    NaN\n",
            "2  Customer Satisfaction    NaN     NaN     NaN    NaN    NaN\n",
            "3            Feasibility    NaN     NaN     NaN    NaN    NaN\n",
            "4    Starategic Aligment    NaN     NaN     NaN    NaN    NaN\n"
          ]
        }
      ]
    },
    {
      "cell_type": "code",
      "source": [
        "# second step: identify weights\n",
        "# weights show relative importance for each criterion\n",
        "# they must add up to 1\n",
        "\n",
        "AA['weight']= [.1,.15,.3,.15,.3]\n",
        "print(AA)"
      ],
      "metadata": {
        "colab": {
          "base_uri": "https://localhost:8080/"
        },
        "id": "Veb_8f-muZv1",
        "outputId": "f40476ec-fb82-4fd4-a9d4-a14528451c0d"
      },
      "execution_count": 3,
      "outputs": [
        {
          "output_type": "stream",
          "name": "stdout",
          "text": [
            "                Criteria  weight ratingA ratingB scoreA scoreB\n",
            "0                   Risk    0.10     NaN     NaN    NaN    NaN\n",
            "1                    ROI    0.15     NaN     NaN    NaN    NaN\n",
            "2  Customer Satisfaction    0.30     NaN     NaN    NaN    NaN\n",
            "3            Feasibility    0.15     NaN     NaN    NaN    NaN\n",
            "4    Starategic Aligment    0.30     NaN     NaN    NaN    NaN\n"
          ]
        }
      ]
    },
    {
      "cell_type": "code",
      "source": [
        "# step 3: rate each alternative across all criteria\n",
        "# choose a scale 1-5 or 1-7 or 1-10\n",
        "# higher number: an alternative is doing better regarding a given criterion\n",
        "\n",
        "AA['ratingA'] = [4,1,2,1,5]\n",
        "AA['ratingB'] = [3,4,2,3,2]\n",
        "\n",
        "# step 4: calculate partial scores by multiplying weight * rating\n",
        "for index, row in AA.iterrows():\n",
        "  AA['scoreA'][index] = row['ratingA']*row['weight']\n",
        "  AA['scoreB'][index]= row['ratingB']*row['weight']\n",
        "print(AA)\n",
        "\n",
        "\n",
        "\n"
      ],
      "metadata": {
        "colab": {
          "base_uri": "https://localhost:8080/"
        },
        "id": "ae8Dby36u5bs",
        "outputId": "e93530e2-9822-4613-de3f-a059460673ee"
      },
      "execution_count": 4,
      "outputs": [
        {
          "output_type": "stream",
          "name": "stdout",
          "text": [
            "                Criteria  weight  ratingA  ratingB scoreA scoreB\n",
            "0                   Risk    0.10        4        3    0.4    0.3\n",
            "1                    ROI    0.15        1        4   0.15    0.6\n",
            "2  Customer Satisfaction    0.30        2        2    0.6    0.6\n",
            "3            Feasibility    0.15        1        3   0.15   0.45\n",
            "4    Starategic Aligment    0.30        5        2    1.5    0.6\n"
          ]
        },
        {
          "output_type": "stream",
          "name": "stderr",
          "text": [
            "/usr/local/lib/python3.7/dist-packages/ipykernel_launcher.py:8: SettingWithCopyWarning: \n",
            "A value is trying to be set on a copy of a slice from a DataFrame\n",
            "\n",
            "See the caveats in the documentation: https://pandas.pydata.org/pandas-docs/stable/user_guide/indexing.html#returning-a-view-versus-a-copy\n",
            "  \n",
            "/usr/local/lib/python3.7/dist-packages/ipykernel_launcher.py:9: SettingWithCopyWarning: \n",
            "A value is trying to be set on a copy of a slice from a DataFrame\n",
            "\n",
            "See the caveats in the documentation: https://pandas.pydata.org/pandas-docs/stable/user_guide/indexing.html#returning-a-view-versus-a-copy\n",
            "  if __name__ == '__main__':\n"
          ]
        }
      ]
    },
    {
      "cell_type": "code",
      "source": [
        "# step 5: add partial scores to get the total scores\n",
        "# which solution is the winner? the one with the highest total score\n",
        "totalScoreA=0\n",
        "totalScoreB=0\n",
        "for index, row in AA.iterrows():\n",
        "  totalScoreA+=row['scoreA']\n",
        "  totalScoreB+=row['scoreB']\n",
        "\n",
        "print('the total score for A is {:.2f} and for B is {:.2f}'.format(totalScoreA,totalScoreB))\n",
        "\n"
      ],
      "metadata": {
        "colab": {
          "base_uri": "https://localhost:8080/"
        },
        "id": "v34xU6-5wJx2",
        "outputId": "0b208f3d-5cda-48ae-937f-540cd45792bc"
      },
      "execution_count": 5,
      "outputs": [
        {
          "output_type": "stream",
          "name": "stdout",
          "text": [
            "the total score for A is 2.80 and for B is 2.55\n"
          ]
        }
      ]
    }
  ]
}